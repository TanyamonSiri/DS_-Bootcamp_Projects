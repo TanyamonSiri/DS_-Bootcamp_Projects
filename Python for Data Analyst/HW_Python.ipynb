{
  "nbformat": 4,
  "nbformat_minor": 0,
  "metadata": {
    "colab": {
      "provenance": []
    },
    "kernelspec": {
      "name": "python3",
      "display_name": "Python 3"
    },
    "language_info": {
      "name": "python"
    }
  },
  "cells": [
    {
      "cell_type": "markdown",
      "source": [
        "Python 101 Homework\n",
        "\n",
        "- Chatbot to order pizza\n",
        "- Pao Ying Chub or Rock Paper Scissors game\n",
        "- ATM Class with 5 methods"
      ],
      "metadata": {
        "id": "74JEXACf6t8s"
      }
    },
    {
      "cell_type": "markdown",
      "source": [
        "# 1. Chatbot to order pizza"
      ],
      "metadata": {
        "id": "2xOSqkXnXsPO"
      }
    },
    {
      "cell_type": "code",
      "source": [
        "import pandas as pd"
      ],
      "metadata": {
        "id": "uMVuJeSTge3u"
      },
      "execution_count": null,
      "outputs": []
    },
    {
      "cell_type": "code",
      "source": [
        "# create my food items\n",
        "pizza_menu = [{\n",
        "    \"menu_id\": 1,\n",
        "    \"name\": \"Hawaiian\",\n",
        "    \"topping\": ['Ham','Bacon','Pineapple'],\n",
        "    \"sauce\": \"Pizza sauce\"\n",
        "    },\n",
        "    {\"menu_id\": 2,\n",
        "    \"name\": \"Super Bacon\",\n",
        "    \"topping\": ['Bacon'],\n",
        "    \"sauce\": \"Pizza sauce\"\n",
        "    },\n",
        "    {\"menu_id\": 3,\n",
        "    \"name\": \"Margherita\",\n",
        "    \"topping\": ['Mozzarella Cheese'],\n",
        "    \"sauce\": \"Pizza sauce\"\n",
        "    },\n",
        "    {\"menu_id\": 4,\n",
        "    \"name\": \"Ham and Cheese\",\n",
        "    \"topping\": ['Ham','Mozzarella Cheese'],\n",
        "    \"sauce\": \"Pizza sauce\"\n",
        "    },\n",
        "    {\"menu_id\": 5,\n",
        "    \"name\": \"Crabstix Hawaiian\",\n",
        "    \"topping\": ['Imitation Crab', 'Pineapple'],\n",
        "    \"sauce\": \"Thousand Island\"\n",
        "    }\n",
        "    ]\n",
        "\n",
        "pizza_size = ['Small(4 pcs.)','Medium(6 pcs.)', 'Large(8 pcs.)']\n",
        "pizza_crust = ['Classic Hand-tossed', 'Thin & Crispy']"
      ],
      "metadata": {
        "id": "ihhbG2ZKhfsu"
      },
      "execution_count": null,
      "outputs": []
    },
    {
      "cell_type": "code",
      "source": [
        "def check_user_input(input):\n",
        "    try:\n",
        "        # Convert it into integer\n",
        "        val = int(input)\n",
        "        print(\"\")\n",
        "    except ValueError:\n",
        "        try:\n",
        "            # Convert it into float\n",
        "            val = float(input)\n",
        "            print(\"Please input only number \")\n",
        "        except ValueError:\n",
        "            print(\"Please input only number\")"
      ],
      "metadata": {
        "id": "HOfJZxylg5kI"
      },
      "execution_count": null,
      "outputs": []
    },
    {
      "cell_type": "code",
      "execution_count": null,
      "metadata": {
        "id": "r1VOWAxvXIpK",
        "colab": {
          "base_uri": "https://localhost:8080/",
          "height": 1000
        },
        "outputId": "cdbe6f47-083c-4807-cd73-206817a2ec01"
      },
      "outputs": [
        {
          "output_type": "stream",
          "name": "stdout",
          "text": [
            "Mel🐻: Hi! this is Mel Pizzahat🍕👒. How can I help you with?\n",
            "Mel🐻: to start ordering type '.start' \n",
            "You👨: .start\n",
            "Mel🐻: Here's our menu\n",
            "1 Hawaiian  Pizza , topping: ['Ham', 'Bacon', 'Pineapple'] ,  sauce: Pizza sauce\n",
            "2 Super Bacon  Pizza , topping: ['Bacon'] ,  sauce: Pizza sauce\n",
            "3 Margherita  Pizza , topping: ['Mozzarella Cheese'] ,  sauce: Pizza sauce\n",
            "4 Ham and Cheese  Pizza , topping: ['Ham', 'Mozzarella Cheese'] ,  sauce: Pizza sauce\n",
            "5 Crabstix Hawaiian  Pizza , topping: ['Imitation Crab', 'Pineapple'] ,  sauce: Thousand Island\n",
            "------------------------------------------------------------------\n",
            "Mel🐻: What pizza do you want to order? \n",
            "You👨: 1\n",
            "You👨: Hawaiian\n",
            "Mel🐻: Okie~\n",
            "Mel🐻: Select pizza crust: [1] Classic Hand-tossed [2] Thin & Crispy \n",
            "You👨: 2\n",
            "You👨: Thin & Crispy\n",
            "Mel🐻: Fabulous!\n",
            "Mel🐻: Select pizza size: [1] SMALL(4 pcs.) [2] MEDIUM(6 pcs.) [3] LARGE(8 pcs.) \n",
            "You👨: 2\n",
            "You👨: Medium(6 pcs.)\n",
            "Mel🐻: Nice choice!\n",
            "Mel🐻: How many? \n",
            "You👨: 2\n",
            "\n",
            "Mel🐻: More to order? Type '.yes'. If not, type '.exit' \n",
            "You👨: .yes\n",
            "Mel🐻: Here's our menu\n",
            "1 Hawaiian  Pizza , topping: ['Ham', 'Bacon', 'Pineapple'] ,  sauce: Pizza sauce\n",
            "2 Super Bacon  Pizza , topping: ['Bacon'] ,  sauce: Pizza sauce\n",
            "3 Margherita  Pizza , topping: ['Mozzarella Cheese'] ,  sauce: Pizza sauce\n",
            "4 Ham and Cheese  Pizza , topping: ['Ham', 'Mozzarella Cheese'] ,  sauce: Pizza sauce\n",
            "5 Crabstix Hawaiian  Pizza , topping: ['Imitation Crab', 'Pineapple'] ,  sauce: Thousand Island\n",
            "------------------------------------------------------------------\n",
            "Mel🐻: What pizza do you want to order? \n",
            "You👨: 2\n",
            "You👨: Super Bacon\n",
            "Mel🐻: Okie~\n",
            "Mel🐻: Select pizza crust: [1] Classic Hand-tossed [2] Thin & Crispy \n",
            "You👨: 1\n",
            "You👨: Classic Hand-tossed\n",
            "Mel🐻: Fabulous!\n",
            "Mel🐻: Select pizza size: [1] SMALL(4 pcs.) [2] MEDIUM(6 pcs.) [3] LARGE(8 pcs.) \n",
            "You👨: 3\n",
            "You👨: Large(8 pcs.)\n",
            "Mel🐻: Nice choice!\n",
            "Mel🐻: How many? \n",
            "You👨: 1\n",
            "\n",
            "Mel🐻: More to order? Type '.yes'. If not, type '.exit' \n",
            "You👨: .exit\n",
            "Mel🐻: Thank you for using Mel pizzahat🍕👒 service! We will serve your order within 30 minutes.\n",
            "Mel🐻: \n",
            " ---Order Summary---\n"
          ]
        },
        {
          "output_type": "execute_result",
          "data": {
            "text/plain": [
              "               ITEMS                CRUST            SIZE  QUANTITY\n",
              "1     Hawaiian Pizza        Thin & Crispy  Medium(6 pcs.)         2\n",
              "2  Super Bacon Pizza  Classic Hand-tossed   Large(8 pcs.)         1"
            ],
            "text/html": [
              "\n",
              "  <div id=\"df-b70549c7-1d8b-4fe3-974c-784a601c662d\">\n",
              "    <div class=\"colab-df-container\">\n",
              "      <div>\n",
              "<style scoped>\n",
              "    .dataframe tbody tr th:only-of-type {\n",
              "        vertical-align: middle;\n",
              "    }\n",
              "\n",
              "    .dataframe tbody tr th {\n",
              "        vertical-align: top;\n",
              "    }\n",
              "\n",
              "    .dataframe thead th {\n",
              "        text-align: right;\n",
              "    }\n",
              "</style>\n",
              "<table border=\"1\" class=\"dataframe\">\n",
              "  <thead>\n",
              "    <tr style=\"text-align: right;\">\n",
              "      <th></th>\n",
              "      <th>ITEMS</th>\n",
              "      <th>CRUST</th>\n",
              "      <th>SIZE</th>\n",
              "      <th>QUANTITY</th>\n",
              "    </tr>\n",
              "  </thead>\n",
              "  <tbody>\n",
              "    <tr>\n",
              "      <th>1</th>\n",
              "      <td>Hawaiian Pizza</td>\n",
              "      <td>Thin &amp; Crispy</td>\n",
              "      <td>Medium(6 pcs.)</td>\n",
              "      <td>2</td>\n",
              "    </tr>\n",
              "    <tr>\n",
              "      <th>2</th>\n",
              "      <td>Super Bacon Pizza</td>\n",
              "      <td>Classic Hand-tossed</td>\n",
              "      <td>Large(8 pcs.)</td>\n",
              "      <td>1</td>\n",
              "    </tr>\n",
              "  </tbody>\n",
              "</table>\n",
              "</div>\n",
              "      <button class=\"colab-df-convert\" onclick=\"convertToInteractive('df-b70549c7-1d8b-4fe3-974c-784a601c662d')\"\n",
              "              title=\"Convert this dataframe to an interactive table.\"\n",
              "              style=\"display:none;\">\n",
              "        \n",
              "  <svg xmlns=\"http://www.w3.org/2000/svg\" height=\"24px\"viewBox=\"0 0 24 24\"\n",
              "       width=\"24px\">\n",
              "    <path d=\"M0 0h24v24H0V0z\" fill=\"none\"/>\n",
              "    <path d=\"M18.56 5.44l.94 2.06.94-2.06 2.06-.94-2.06-.94-.94-2.06-.94 2.06-2.06.94zm-11 1L8.5 8.5l.94-2.06 2.06-.94-2.06-.94L8.5 2.5l-.94 2.06-2.06.94zm10 10l.94 2.06.94-2.06 2.06-.94-2.06-.94-.94-2.06-.94 2.06-2.06.94z\"/><path d=\"M17.41 7.96l-1.37-1.37c-.4-.4-.92-.59-1.43-.59-.52 0-1.04.2-1.43.59L10.3 9.45l-7.72 7.72c-.78.78-.78 2.05 0 2.83L4 21.41c.39.39.9.59 1.41.59.51 0 1.02-.2 1.41-.59l7.78-7.78 2.81-2.81c.8-.78.8-2.07 0-2.86zM5.41 20L4 18.59l7.72-7.72 1.47 1.35L5.41 20z\"/>\n",
              "  </svg>\n",
              "      </button>\n",
              "      \n",
              "  <style>\n",
              "    .colab-df-container {\n",
              "      display:flex;\n",
              "      flex-wrap:wrap;\n",
              "      gap: 12px;\n",
              "    }\n",
              "\n",
              "    .colab-df-convert {\n",
              "      background-color: #E8F0FE;\n",
              "      border: none;\n",
              "      border-radius: 50%;\n",
              "      cursor: pointer;\n",
              "      display: none;\n",
              "      fill: #1967D2;\n",
              "      height: 32px;\n",
              "      padding: 0 0 0 0;\n",
              "      width: 32px;\n",
              "    }\n",
              "\n",
              "    .colab-df-convert:hover {\n",
              "      background-color: #E2EBFA;\n",
              "      box-shadow: 0px 1px 2px rgba(60, 64, 67, 0.3), 0px 1px 3px 1px rgba(60, 64, 67, 0.15);\n",
              "      fill: #174EA6;\n",
              "    }\n",
              "\n",
              "    [theme=dark] .colab-df-convert {\n",
              "      background-color: #3B4455;\n",
              "      fill: #D2E3FC;\n",
              "    }\n",
              "\n",
              "    [theme=dark] .colab-df-convert:hover {\n",
              "      background-color: #434B5C;\n",
              "      box-shadow: 0px 1px 3px 1px rgba(0, 0, 0, 0.15);\n",
              "      filter: drop-shadow(0px 1px 2px rgba(0, 0, 0, 0.3));\n",
              "      fill: #FFFFFF;\n",
              "    }\n",
              "  </style>\n",
              "\n",
              "      <script>\n",
              "        const buttonEl =\n",
              "          document.querySelector('#df-b70549c7-1d8b-4fe3-974c-784a601c662d button.colab-df-convert');\n",
              "        buttonEl.style.display =\n",
              "          google.colab.kernel.accessAllowed ? 'block' : 'none';\n",
              "\n",
              "        async function convertToInteractive(key) {\n",
              "          const element = document.querySelector('#df-b70549c7-1d8b-4fe3-974c-784a601c662d');\n",
              "          const dataTable =\n",
              "            await google.colab.kernel.invokeFunction('convertToInteractive',\n",
              "                                                     [key], {});\n",
              "          if (!dataTable) return;\n",
              "\n",
              "          const docLinkHtml = 'Like what you see? Visit the ' +\n",
              "            '<a target=\"_blank\" href=https://colab.research.google.com/notebooks/data_table.ipynb>data table notebook</a>'\n",
              "            + ' to learn more about interactive tables.';\n",
              "          element.innerHTML = '';\n",
              "          dataTable['output_type'] = 'display_data';\n",
              "          await google.colab.output.renderOutput(dataTable, element);\n",
              "          const docLink = document.createElement('div');\n",
              "          docLink.innerHTML = docLinkHtml;\n",
              "          element.appendChild(docLink);\n",
              "        }\n",
              "      </script>\n",
              "    </div>\n",
              "  </div>\n",
              "  "
            ]
          },
          "metadata": {},
          "execution_count": 7
        }
      ],
      "source": [
        "# pizza chatbot\n",
        "def pizza_chatbot():\n",
        "  check = [str(i) for i in range(1,6)]\n",
        "  new_order = dict()\n",
        "  command = \"\"\n",
        "  no = 0\n",
        "  mel = \"Mel🐻:\"\n",
        "  you = \"You👨:\"\n",
        "  print(f\"{mel} Hi! this is Mel Pizzahat🍕👒. How can I help you with?\")\n",
        "  print(f\"{mel} to start ordering type '.start' \")\n",
        "  start = input(f\"{you} \")\n",
        "  if start == \".start\":\n",
        "    while True:\n",
        "      print(f\"{mel} Here's our menu\")\n",
        "      for i in range(len(pizza_menu)):\n",
        "        print(pizza_menu[i]['menu_id'],pizza_menu[i]['name'],\" Pizza\",\",\",\n",
        "        \"topping:\",pizza_menu[i]['topping'],\",\",\n",
        "       \" sauce:\", pizza_menu[i]['sauce'])\n",
        "      print(\"------------------------------------------------------------------\")\n",
        "      while True:\n",
        "        if command == '.yes':\n",
        "          command = ''\n",
        "          break\n",
        "        print(f\"{mel} What pizza do you want to order? \")\n",
        "        order = input(f\"{you} \") # accept input as string\n",
        "        if order in check:\n",
        "          order=int(order)\n",
        "          no+=1\n",
        "          new_order[no] = list()\n",
        "          new_order[no].append(pizza_menu[order-1]['name']+\" Pizza\")\n",
        "          print(you,pizza_menu[order-1]['name'])\n",
        "          print(f\"{mel} Okie~\")\n",
        "          while True:\n",
        "            if command == '.yes':\n",
        "                  break\n",
        "            print(f\"{mel} Select pizza crust: [1] Classic Hand-tossed [2] Thin & Crispy \")\n",
        "            order_crust = input(f\"{you} \" )\n",
        "            if order_crust in check[0:2]:\n",
        "              order_crust = int(order_crust)\n",
        "              new_order[no].append(pizza_crust[order_crust-1])\n",
        "              print(f\"{you} {pizza_crust[order_crust-1]}\")\n",
        "              print(f\"{mel} Fabulous!\")\n",
        "              while True:\n",
        "                if command == '.yes':\n",
        "                  break\n",
        "                print(f\"{mel} Select pizza size: [1] SMALL(4 pcs.) [2] MEDIUM(6 pcs.) [3] LARGE(8 pcs.) \")\n",
        "                order_size = input(f\"{you} \" )\n",
        "                if order_size in check[0:3]:\n",
        "                  order_size = int(order_size)\n",
        "                  new_order[no].append(pizza_size[order_size-1])\n",
        "                  print(f\"{you} {pizza_size[order_size-1]}\")\n",
        "                  print(f\"{mel} Nice choice!\")\n",
        "                  while True:\n",
        "                      print(f\"{mel} How many? \")\n",
        "                      order_quan = int(input(f\"{you} \"))\n",
        "                      check_user_input(order_quan)\n",
        "                      new_order[no].append(order_quan)\n",
        "                      print(f\"{mel} More to order? Type '.yes'. If not, type '.exit' \")\n",
        "                      command = input(f\"{you} \")\n",
        "                      if command == \".exit\":\n",
        "                        print(f\"{mel} Thank you for using Mel pizzahat🍕👒 service! We will serve your order within 30 minutes.\")\n",
        "                        print(f\"{mel} \\n ---Order Summary---\")\n",
        "                        #your_ord = (f\"{order_quan} {pizza_size[order_size-1]} {pizza_crust[order_crust-1]} {pizza_menu[order-1]['name']} Pizza\")\n",
        "                        your_ord = pd.DataFrame.from_dict(new_order, \n",
        "                                                          orient='index',columns=['ITEMS', 'CRUST', 'SIZE','QUANTITY'])\n",
        "                        return your_ord\n",
        "                      if command == \".yes\" :\n",
        "                        break\n",
        "                      else:\n",
        "                        print(f\"{mel} Please input only '.yes' or '.exit'\")\n",
        "                    \n",
        "                else:\n",
        "                  print(f\"{mel} Wrong input. Please select new pizza size: [1] SMALL(4 pcs.) [2] MEDIUM(6 pcs.) [3] LARGE(8 pcs.)\")\n",
        "                  \n",
        "            else: \n",
        "              print(f\"{mel} Wrong input. Please select new pizza crust: [1] Classic Hand-tossed [2] Thin & Crispy\")\n",
        "        else:\n",
        "            print(f\"{mel} Wrong input. Please input only number e.g. '1' for Hawaiian pizza\")\n",
        "            \n",
        "pizza_chatbot()"
      ]
    },
    {
      "cell_type": "markdown",
      "source": [
        "# 2. Pao Ching Chub or Rock Paper Scissors game\n"
      ],
      "metadata": {
        "id": "1MO74DdDMQGp"
      }
    },
    {
      "cell_type": "code",
      "source": [
        "import random as rd\n",
        "def RPS_input(value):\n",
        "  selection = ['Rock','Paper','Scissors']\n",
        "  point = 1\n",
        "  mel = \"Mel🐻:\"\n",
        "  you = \"You👨:\"\n",
        "  try:\n",
        "        # Convert it into integer\n",
        "        val = int(value)-1\n",
        "        bot_select = rd.choice([0,1,2])\n",
        "        #print(bot_select,selection[bot_select])\n",
        "        #print(val,selection[val])\n",
        "        versus = f\"-------You👨:{selection[val]} vs. {selection[bot_select]} :Mel🐻-------\"\n",
        "        bot_win = \"Mel win!\"\n",
        "        user_win = \"You win!\"\n",
        "        #print(\"Hello\")\n",
        "        if val == bot_select:\n",
        "          print(versus)\n",
        "          print(f\"{mel} Tie!\")\n",
        "          return 0\n",
        "        if abs(val-bot_select) == 2:\n",
        "          if val < bot_select:\n",
        "            print(versus)\n",
        "            print(f\"{mel} {user_win}\")\n",
        "            return 1\n",
        "          else:\n",
        "            print(versus)\n",
        "            print(f\"{mel} {bot_win}\")\n",
        "            return -1\n",
        "        if abs(val-bot_select) == 1:\n",
        "          if val < bot_select:\n",
        "            print(versus)\n",
        "            print(f\"{mel} {bot_win}\")\n",
        "            return -1\n",
        "          else:\n",
        "            print(versus)\n",
        "            print(f\"{mel} {user_win}\")\n",
        "            return 1\n",
        "        \n",
        "  except ValueError:\n",
        "      try:\n",
        "          if value == \".exit\":\n",
        "            return 2\n",
        "      except ValueError:\n",
        "          print(\"Please input only number\")\n",
        "          return -2\n"
      ],
      "metadata": {
        "id": "20xbTF83fbgz"
      },
      "execution_count": null,
      "outputs": []
    },
    {
      "cell_type": "code",
      "source": [
        "# Rock Papar Scissor\n",
        "\n",
        "def RPS():\n",
        "  mel = \"Mel🐻:\"\n",
        "  you = \"You👨:\"\n",
        "  selection = ['Rock','Paper','Scissors']\n",
        "  user_score = 0\n",
        "  mel_score = 0\n",
        "  rnd = 0\n",
        "  output = 0\n",
        "\n",
        "  print(f\"{mel} Hi! this is Mel again. Let's play Rock Paper Scissors game tgt\")\n",
        "  print(f\"{mel} User Instruction: [1] Rock [2] Paper [3] Scissors\")\n",
        "  print(f\"{mel} To start playing with me, type '.start' \")\n",
        "  comm = input(f\"{you} \")\n",
        "  while True:\n",
        "    if output ==2:\n",
        "      break\n",
        "    if comm == \".start\":\n",
        "      while True:\n",
        "        rnd+=1\n",
        "        print(f\"{mel} Type '.exit' whether you want to quit the game😊\")\n",
        "        print(f\"{mel} Round {rnd} start!\")\n",
        "        print(f\"{mel} Choose one: [1] Rock [2] Paper [3] Scissors\")\n",
        "        user_select = input(f\"{you} \")\n",
        "        output = RPS_input(user_select)\n",
        "        if output == 2:\n",
        "          rnd-=1\n",
        "          print(\"-------------------------------------------------------------\")\n",
        "          print(\"Match Summary\")\n",
        "          print(f\"{mel} Total round we've played: {rnd}\")\n",
        "          print(f\"{mel} Your score: {user_score}\")\n",
        "          print(f\"{mel} Mel score: {mel_score} \")\n",
        "          tie = rnd - mel_score - user_score\n",
        "          print(f\"{mel} Total tie: {tie} \")\n",
        "          if mel_score > user_score:\n",
        "            print(f\"{mel} Result: I win!\")\n",
        "          if mel_score < user_score:\n",
        "            print(f\"{mel} Result: You win!\")\n",
        "          if mel_score == user_score:\n",
        "            print(f\"{mel} Result: Tie! 🔥\")\n",
        "          print(f\"{mel} Thank you for playing with Mel✨👋\")\n",
        "          break\n",
        "        if output == -2:\n",
        "          print(\"-------------------------------------------------------------\")\n",
        "          rnd-=1\n",
        "        if output == 1:\n",
        "          user_score+=1\n",
        "        if output == -1:\n",
        "          mel_score+=1 \n",
        "    else:\n",
        "      print(f\"{mel} Please type '.start' to start playing\")\n",
        "    \n",
        "RPS()\n"
      ],
      "metadata": {
        "colab": {
          "base_uri": "https://localhost:8080/"
        },
        "id": "V_YWEmH1MbDR",
        "outputId": "71c2add7-847d-4347-a237-0647b5353b52"
      },
      "execution_count": null,
      "outputs": [
        {
          "output_type": "stream",
          "name": "stdout",
          "text": [
            "Mel🐻: Hi! this is Mel again. Let's play Rock Paper Scissors game tgt\n",
            "Mel🐻: User Instruction: [1] Rock [2] Paper [3] Scissors\n",
            "Mel🐻: To start playing with me, type '.start' \n",
            "You👨: .start\n",
            "Mel🐻: Type '.exit' whether you want to quit the game😊\n",
            "Mel🐻: Round 1 start!\n",
            "Mel🐻: Choose one: [1] Rock [2] Paper [3] Scissors\n",
            "You👨: 2\n",
            "-------You👨:Paper vs. Scissors :Mel🐻-------\n",
            "Mel🐻: Mel win!\n",
            "Mel🐻: Type '.exit' whether you want to quit the game😊\n",
            "Mel🐻: Round 2 start!\n",
            "Mel🐻: Choose one: [1] Rock [2] Paper [3] Scissors\n",
            "You👨: 3\n",
            "-------You👨:Scissors vs. Rock :Mel🐻-------\n",
            "Mel🐻: Mel win!\n",
            "Mel🐻: Type '.exit' whether you want to quit the game😊\n",
            "Mel🐻: Round 3 start!\n",
            "Mel🐻: Choose one: [1] Rock [2] Paper [3] Scissors\n",
            "You👨: 2\n",
            "-------You👨:Paper vs. Rock :Mel🐻-------\n",
            "Mel🐻: You win!\n",
            "Mel🐻: Type '.exit' whether you want to quit the game😊\n",
            "Mel🐻: Round 4 start!\n",
            "Mel🐻: Choose one: [1] Rock [2] Paper [3] Scissors\n",
            "You👨: 2\n",
            "-------You👨:Paper vs. Rock :Mel🐻-------\n",
            "Mel🐻: You win!\n",
            "Mel🐻: Type '.exit' whether you want to quit the game😊\n",
            "Mel🐻: Round 5 start!\n",
            "Mel🐻: Choose one: [1] Rock [2] Paper [3] Scissors\n",
            "You👨: .exit\n",
            "-------------------------------------------------------------\n",
            "Match Summary\n",
            "Mel🐻: Total round we've played: 4\n",
            "Mel🐻: Your score: 2\n",
            "Mel🐻: Mel score: 2 \n",
            "Mel🐻: Total tie: 0 \n",
            "Mel🐻: Result: Tie! 🔥\n",
            "Mel🐻: Thank you for playing with Mel✨👋\n"
          ]
        }
      ]
    },
    {
      "cell_type": "markdown",
      "source": [
        "# 3. ATM Class with 5 methods"
      ],
      "metadata": {
        "id": "kYhK3cOWMb7K"
      }
    },
    {
      "cell_type": "code",
      "source": [
        "# OOP - Object Oriented Programming\n",
        "# HW03 - create new ATM class\n",
        "\n",
        "class ATM:\n",
        "  def __init__(self, name, bank, balance, pin):\n",
        "    self.name = name\n",
        "    self.bank = bank\n",
        "    self.balance = balance\n",
        "    try:\n",
        "      check = int(pin)\n",
        "      check = [i for i in str(check)]\n",
        "      # print(check)\n",
        "      if len(check) == 4:\n",
        "        self.password = pin\n",
        "        # print(self.password)\n",
        "    except ValueError:\n",
        "      print(\"Please input 4-digit of ATM PIN\")\n",
        "      \n",
        "  def change_password(self,pin):\n",
        "    i = 0\n",
        "    while i < 4:\n",
        "      if pin == self.password:\n",
        "        new_password = int(input(\"Enter 4-digit number of new ATM PIN: \"))\n",
        "        self.password = new_password\n",
        "        # print(self.password)\n",
        "        print(f\"Your password has been changed\")\n",
        "        break\n",
        "      if i == 3:\n",
        "        print(f\"You have reached your max 3 attempts. Please try again later\")\n",
        "        break\n",
        "        \n",
        "      else:\n",
        "        print(\"Wrong PIN. Please try again\")\n",
        "        pin = int(input(\"PIN: \"))\n",
        "        i+=1\n",
        "    \n",
        "  def deposit(self, amt,pin):\n",
        "    i = 0\n",
        "    while i <4:\n",
        "      if pin == self.password:\n",
        "        self.balance += amt\n",
        "        print(f\"You have successfully deposit {amt} THB to your own account\")\n",
        "        print(f\"Available Balance (THB): {self.balance}\")\n",
        "        break\n",
        "      if i == 3:\n",
        "        print(\"You have reached your max 3 attempts. Please try again later\")\n",
        "        break\n",
        "      else:\n",
        "        print(\"Wrong PIN. Please try again\")\n",
        "        pin = int(input(\"PIN: \"))\n",
        "        i+=1\n",
        "\n",
        "\n",
        "  def transfer(self, amt, tobank,pin):\n",
        "    i = 0\n",
        "    while i <4:\n",
        "      if pin == self.password:\n",
        "        if self.balance >= amt:\n",
        "          self.balance -= amt\n",
        "          print(f\"You have successfully transfer {amt} THB to {tobank}\")\n",
        "          print(f\"From account: {self.bank} \")\n",
        "          print(f\"To account: {tobank} \")\n",
        "          print(f\"Available Balance (THB): {self.balance}\")\n",
        "          break\n",
        "        else:\n",
        "          print(f\"Unable to proceed your transaction. Please check your account balance\")\n",
        "          break\n",
        "      if i == 3:\n",
        "        print(\"You have reached your max 3 attempts. Please try again later\")\n",
        "        break\n",
        "      else:\n",
        "        print(\"Wrong PIN. Please try again\")\n",
        "        pin = int(input(\"PIN: \"))\n",
        "        i+=1\n",
        "\n",
        "  def withdrawn(self, amt,pin):\n",
        "    i = 0\n",
        "    while i <4:\n",
        "      if pin == self.password:\n",
        "        if self.balance >= amt:\n",
        "          self.balance -= amt\n",
        "          print(f\"You have successfully withdrawn {amt} THB from your own account\")\n",
        "          print(f\"Available Balance (THB): {self.balance}\")\n",
        "          break\n",
        "        else:\n",
        "          print(f\"Unable to proceed your transaction. Please check your account balance\")\n",
        "          break\n",
        "      if i == 3:\n",
        "        print(\"You have reached your max 3 attempts. Please try again later\")\n",
        "        break\n",
        "      else:\n",
        "        print(\"Wrong PIN. Please try again\")\n",
        "        pin = int(input(\"PIN: \"))\n",
        "        i+=1\n",
        "  def summary(self,pin):\n",
        "    i = 0\n",
        "    while i <4:\n",
        "      if pin == self.password:   \n",
        "        print(f\"Your name: {self.name} \")\n",
        "        print(f\"Your account: {self.bank} \")\n",
        "        print(f\"Available Balance (THB): {self.balance}\")\n",
        "        break\n",
        "      if i == 3:\n",
        "        print(\"You have reached your max 3 attempts. Please try again later\")\n",
        "        break\n",
        "      else:\n",
        "        print(\"Wrong PIN. Please try again\")\n",
        "        pin = int(input(\"PIN: \"))\n",
        "        i+=1"
      ],
      "metadata": {
        "id": "MEjq59l7MgR6"
      },
      "execution_count": null,
      "outputs": []
    },
    {
      "cell_type": "code",
      "source": [
        "user1 = ATM(\"Ping\",\"Kbank\",10000,1234)"
      ],
      "metadata": {
        "id": "dqMEtHOTV0aq"
      },
      "execution_count": null,
      "outputs": []
    },
    {
      "cell_type": "code",
      "source": [
        "# Correct PIN for deposit\n",
        "user1.deposit(500,1234)"
      ],
      "metadata": {
        "colab": {
          "base_uri": "https://localhost:8080/"
        },
        "id": "_2wk5dEOHSrk",
        "outputId": "e8e5bf4b-6342-4694-e409-60aa615622d2"
      },
      "execution_count": null,
      "outputs": [
        {
          "output_type": "stream",
          "name": "stdout",
          "text": [
            "You have successfully deposit 500 THB to your own account\n",
            "Available Balance (THB): 10500\n"
          ]
        }
      ]
    },
    {
      "cell_type": "code",
      "source": [
        "# Wrong PIN for deposit\n",
        "user1.deposit(1000,0000)"
      ],
      "metadata": {
        "colab": {
          "base_uri": "https://localhost:8080/"
        },
        "id": "QSO8U1xDOIGl",
        "outputId": "9cf59019-db6a-4f43-f73b-8d0e3d2f19e7"
      },
      "execution_count": null,
      "outputs": [
        {
          "output_type": "stream",
          "name": "stdout",
          "text": [
            "Wrong PIN. Please try again\n",
            "PIN: 0000\n",
            "Wrong PIN. Please try again\n",
            "PIN: 0000\n",
            "Wrong PIN. Please try again\n",
            "PIN: 0000\n",
            "You have reached your max 3 attempts. Please try again later\n"
          ]
        }
      ]
    },
    {
      "cell_type": "code",
      "source": [
        "user1.transfer(500,\"SCB\",1234)"
      ],
      "metadata": {
        "colab": {
          "base_uri": "https://localhost:8080/"
        },
        "id": "_8bUtbZXWgsP",
        "outputId": "01e6cdd1-5ba8-4d85-849a-1b6b2f5c5145"
      },
      "execution_count": null,
      "outputs": [
        {
          "output_type": "stream",
          "name": "stdout",
          "text": [
            "You have successfully transfer 500 THB to SCB\n",
            "From account: Kbank \n",
            "To account: SCB \n",
            "Available Balance (THB): 10000\n"
          ]
        }
      ]
    },
    {
      "cell_type": "code",
      "source": [
        "user1.transfer(500,\"SCB\",0000)"
      ],
      "metadata": {
        "colab": {
          "base_uri": "https://localhost:8080/"
        },
        "id": "TKbbSijpR8d-",
        "outputId": "2e9a1e9d-174c-4394-b674-2378c7c9af34"
      },
      "execution_count": null,
      "outputs": [
        {
          "output_type": "stream",
          "name": "stdout",
          "text": [
            "Wrong PIN. Please try again\n",
            "PIN: 0000\n",
            "Wrong PIN. Please try again\n",
            "PIN: 0000\n",
            "Wrong PIN. Please try again\n",
            "PIN: 0000\n",
            "You have reached your max 3 attempts. Please try again later\n"
          ]
        }
      ]
    },
    {
      "cell_type": "code",
      "source": [
        "user1.withdrawn(1000, 1234)"
      ],
      "metadata": {
        "colab": {
          "base_uri": "https://localhost:8080/"
        },
        "id": "W0yxbQj9gqCs",
        "outputId": "53f60c46-6c78-43f9-d63c-aeecbaf40ca4"
      },
      "execution_count": null,
      "outputs": [
        {
          "output_type": "stream",
          "name": "stdout",
          "text": [
            "You have successfully withdrawn 1000 THB from your own account\n",
            "Available Balance (THB): 9000\n"
          ]
        }
      ]
    },
    {
      "cell_type": "code",
      "source": [
        "user1.withdrawn(1000, 00000)"
      ],
      "metadata": {
        "colab": {
          "base_uri": "https://localhost:8080/"
        },
        "id": "gzLsogEbgzKw",
        "outputId": "44ac8ff9-30e6-4480-acaf-c56ec1cc17ae"
      },
      "execution_count": null,
      "outputs": [
        {
          "output_type": "stream",
          "name": "stdout",
          "text": [
            "Wrong PIN. Please try again\n",
            "PIN: 000\n",
            "Wrong PIN. Please try again\n",
            "PIN: 0\n",
            "Wrong PIN. Please try again\n",
            "PIN: 0\n",
            "You have reached your max 3 attempts. Please try again later\n"
          ]
        }
      ]
    },
    {
      "cell_type": "code",
      "source": [
        "user1.summary(1234)"
      ],
      "metadata": {
        "colab": {
          "base_uri": "https://localhost:8080/"
        },
        "id": "i5W0R-jgMSB4",
        "outputId": "de896e52-8ae7-4f91-bc28-488f3b4f8b10"
      },
      "execution_count": null,
      "outputs": [
        {
          "output_type": "stream",
          "name": "stdout",
          "text": [
            "Your name: Ping \n",
            "Your account: Kbank \n",
            "Available Balance (THB): 9000\n"
          ]
        }
      ]
    },
    {
      "cell_type": "code",
      "source": [
        "user1.change_password(1234)"
      ],
      "metadata": {
        "colab": {
          "base_uri": "https://localhost:8080/"
        },
        "id": "vEXIY4tWMYqI",
        "outputId": "f0b0cfe9-eb83-4ab9-c39c-575cb98522ba"
      },
      "execution_count": null,
      "outputs": [
        {
          "output_type": "stream",
          "name": "stdout",
          "text": [
            "Enter 4-digit number of new ATM PIN: 2222\n",
            "2222\n",
            "Your password has been changed\n"
          ]
        }
      ]
    },
    {
      "cell_type": "code",
      "source": [
        "user1.summary(1234)"
      ],
      "metadata": {
        "colab": {
          "base_uri": "https://localhost:8080/"
        },
        "id": "YfCq8T6bjrVJ",
        "outputId": "2f9d9a10-5ec8-47a6-ddac-0b6ee1c34dca"
      },
      "execution_count": null,
      "outputs": [
        {
          "output_type": "stream",
          "name": "stdout",
          "text": [
            "Wrong PIN. Please try again\n",
            "PIN: 2222\n",
            "Your name: Ping \n",
            "Your account: Kbank \n",
            "Available Balance (THB): 9000\n"
          ]
        }
      ]
    }
  ]
}